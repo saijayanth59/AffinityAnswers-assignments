{
 "cells": [
  {
   "cell_type": "code",
   "execution_count": 23,
   "metadata": {},
   "outputs": [],
   "source": [
    "import requests\n",
    "\n",
    "from bs4 import BeautifulSoup\n",
    "\n",
    "url = \"https://www.olx.in/items/q-car-cover\"\n",
    "headers = {\n",
    "    \"accept\": \"text/html,application/xhtml+xml,application/xml;q=0.9,image/avif,image/webp,image/apng,*/*;q=0.8\",\n",
    "    \"accept-encoding\": \"gzip, deflate, br, zstd\",\n",
    "    \"accept-language\": \"en-GB,en;q=0.7\",\n",
    "    \"cookie\": \";\",\n",
    "    \"user-agent\":\n",
    "\"Mozilla/5.0 (X11; Linux x86_64) AppleWebKit/537.36 (KHTML, like Gecko) Chrome/134.0.0.0 Safari/537.36\"\n",
    "}\n",
    "\n",
    "\n",
    "\n",
    "def get_html(url):\n",
    "    response = requests.get(url, headers=headers)\n",
    "    return response"
   ]
  },
  {
   "cell_type": "code",
   "execution_count": 24,
   "metadata": {},
   "outputs": [],
   "source": [
    "res = get_html(url)\n",
    "soup = BeautifulSoup(res.content, 'html.parser')"
   ]
  },
  {
   "cell_type": "code",
   "execution_count": 28,
   "metadata": {},
   "outputs": [],
   "source": [
    "main_content = soup.find(\"ul\", attrs={\n",
    "    \"data-aut-id\": \"itemsList1\"\n",
    "})"
   ]
  },
  {
   "cell_type": "code",
   "execution_count": 31,
   "metadata": {},
   "outputs": [],
   "source": [
    "items = main_content.findAll(\"li\", attrs={\n",
    "    \"data-aut-id\":\"itemBox3\"\n",
    "})"
   ]
  },
  {
   "cell_type": "code",
   "execution_count": 32,
   "metadata": {},
   "outputs": [
    {
     "data": {
      "text/plain": [
       "<li class=\"_1DNjI\" data-aut-category-id=\"1585\" data-aut-id=\"itemBox3\"><a class=\"_2cbZ2\" href=\"/item/spare-parts-c1585-audio-other-accessories-in-teen-murti-marg-area-delhi-iid-1804756254\"><figure class=\"_3UrC5\" data-aut-id=\"itemImage\"><div class=\"_1apxS\"><div class=\"LnPDR _1zTrc\"></div></div><noscript><img alt=\"Car Seat Covers del\" class=\"_3vnjf\" fetchpriority=\"high\" sizes=\"(min-width: 1280px) 15vw, (min-width: 1024px) 20vw, (min-width: 960px) 25vw, (min-width: 540px) 25vw, (min-width: 320px) 30vw, 35vw\" src=\"https://apollo.olx.in:443/v1/files/anlj9be4dls03-ADVIN/image;s=150x0;q=50;f=webp;\" srcset=\"https://apollo.olx.in:443/v1/files/anlj9be4dls03-ADVIN/image;s=100x200;q=60 100w,\n",
       "                    https://apollo.olx.in:443/v1/files/anlj9be4dls03-ADVIN/image;s=200x400;q=60 200w,\n",
       "                    https://apollo.olx.in:443/v1/files/anlj9be4dls03-ADVIN/image;s=300x600;q=60 300w,\n",
       "                    https://apollo.olx.in:443/v1/files/anlj9be4dls03-ADVIN/image;s=400x800;q=60 400w,\n",
       "                    https://apollo.olx.in:443/v1/files/anlj9be4dls03-ADVIN/image;s=600x1200;q=60 600w\"/></noscript></figure><div class=\"fTZT3\"><div class=\"_1IpS4\"><label><span class=\"TIvlD\"><span>Featured</span></span></label></div><span class=\"_2Ks63\" data-aut-id=\"itemPrice\">₹ 3,800</span><span class=\"_2poNJ\" data-aut-id=\"itemTitle\">Car Seat Covers del</span><div class=\"_3rmDx\"><span class=\"_2VQu4\" data-aut-id=\"item-location\">Teen Murti Marg Area, Delhi</span><span class=\"_2jcGx\"><span>22 Apr</span></span></div></div></a><span class=\"_1Tqbb _18Wg3\"><button class=\"rui-3a8k1 _29mJd favoriteOff\" data-aut-id=\"btnFav\" role=\"button\" tabindex=\"0\" title=\"Favourite\" type=\"button\"><svg class=\"\" data-aut-id=\"icon\" fill-rule=\"evenodd\" height=\"24px\" viewbox=\"0 0 1024 1024\" width=\"24px\"><path class=\"rui-w4DG7\" d=\"M830.798 448.659l-318.798 389.915-317.828-388.693c-20.461-27.171-31.263-59.345-31.263-93.033 0-85.566 69.605-155.152 155.152-155.152 72.126 0 132.752 49.552 150.051 116.364h87.777c17.299-66.812 77.905-116.364 150.051-116.364 85.547 0 155.152 69.585 155.152 155.152 0 33.687-10.802 65.862-30.293 91.811zM705.939 124.121c-80.853 0-152.204 41.425-193.939 104.204-41.736-62.778-113.086-104.204-193.939-104.204-128.33 0-232.727 104.378-232.727 232.727 0 50.657 16.194 98.948 47.806 140.897l328.766 402.133h100.189l329.716-403.355c30.662-40.727 46.856-89.018 46.856-139.675 0-128.349-104.398-232.727-232.727-232.727z\"></path></svg></button></span></li>"
      ]
     },
     "execution_count": 32,
     "metadata": {},
     "output_type": "execute_result"
    }
   ],
   "source": [
    "items[0]"
   ]
  },
  {
   "cell_type": "code",
   "execution_count": 48,
   "metadata": {},
   "outputs": [],
   "source": [
    "data = []\n",
    "for li in items:\n",
    "    price = li.find(\"span\", attrs={'data-aut-id': 'itemPrice'})\n",
    "    title = li.find('span', attrs={'data-aut-id': 'itemTitle'})\n",
    "    location = li.find('span', attrs={'data-aut-id': 'item-location'})\n",
    "    image_link = li.find(\"figure\", attrs={\"data-aut-id\": \"itemImage\"}).find(\"img\")['src']\n",
    "    data.append(\n",
    "        {\n",
    "            \"price\": price.text if price else None\n",
    "        }\n",
    "    )"
   ]
  },
  {
   "cell_type": "code",
   "execution_count": 49,
   "metadata": {},
   "outputs": [
    {
     "data": {
      "text/plain": [
       "[{'price': '₹ 3,800'},\n",
       " {'price': '₹ 45,00,000'},\n",
       " {'price': '₹ 5,15,000'},\n",
       " {'price': '₹ 1,28,000'},\n",
       " {'price': '₹ 3,00,000'},\n",
       " {'price': '₹ 38,90,000'},\n",
       " {'price': '₹ 1,100'},\n",
       " {'price': '₹ 44,99,999'},\n",
       " {'price': '₹ 800'},\n",
       " {'price': '₹ 10,000'},\n",
       " {'price': '₹ 21,000'},\n",
       " {'price': '₹ 4,40,000'},\n",
       " {'price': '₹ 31,00,000'},\n",
       " {'price': '₹ 1,500'},\n",
       " {'price': '₹ 14,000'},\n",
       " {'price': '₹ 4,500'},\n",
       " {'price': '₹ 1,000'},\n",
       " {'price': '₹ 500'},\n",
       " {'price': '₹ 33,00,100'},\n",
       " {'price': '₹ 44,00,000'},\n",
       " {'price': '₹ 12,000'},\n",
       " {'price': '₹ 4,200'},\n",
       " {'price': '₹ 2,600'},\n",
       " {'price': '₹ 26,90,000'},\n",
       " {'price': '₹ 1,000'},\n",
       " {'price': '₹ 23,80,000'},\n",
       " {'price': '₹ 1,000'},\n",
       " {'price': '₹ 43,50,000'},\n",
       " {'price': '₹ 6,000'},\n",
       " {'price': '₹ 849'},\n",
       " {'price': '₹ 700'},\n",
       " {'price': None},\n",
       " {'price': '₹ 699'},\n",
       " {'price': '₹ 3,800'},\n",
       " {'price': '₹ 15,000'},\n",
       " {'price': '₹ 1,21,00,000'},\n",
       " {'price': '₹ 70,00,000'},\n",
       " {'price': '₹ 21,20,000'},\n",
       " {'price': '₹ 33,00,000'},\n",
       " {'price': '₹ 300'}]"
      ]
     },
     "execution_count": 49,
     "metadata": {},
     "output_type": "execute_result"
    }
   ],
   "source": [
    "data"
   ]
  },
  {
   "cell_type": "code",
   "execution_count": 52,
   "metadata": {},
   "outputs": [],
   "source": [
    "import csv\n",
    "\n",
    "data = []\n",
    "for li in items:\n",
    "    price = li.find(\"span\", attrs={'data-aut-id': 'itemPrice'})\n",
    "    title = li.find('span', attrs={'data-aut-id': 'itemTitle'})\n",
    "    location = li.find('span', attrs={'data-aut-id': 'item-location'})\n",
    "    time = li.find(\"span\", class_=\"_2jcGx\")\n",
    "\n",
    "    image_tag = li.find(\"figure\", attrs={\"data-aut-id\": \"itemImage\"})\n",
    "    image_link = image_tag.find(\"img\")['src'] if image_tag and image_tag.find(\"img\") else None\n",
    "\n",
    "    data.append({\n",
    "        \"price\": price.text.strip() if price else None,\n",
    "        \"title\": title.text.strip() if title else None,\n",
    "        \"location\": location.text.strip() if location else None,\n",
    "        \"time\": time.text.strip() if time else None,\n",
    "        \"image_link\": image_link\n",
    "    })\n",
    "\n",
    "# Save to CSV\n",
    "with open(\"olx_data.csv\", mode=\"w\", newline=\"\", encoding=\"utf-8\") as file:\n",
    "    writer = csv.DictWriter(file, fieldnames=[\"price\", \"title\", \"location\", \"time\", \"image_link\"])\n",
    "    writer.writeheader()\n",
    "    writer.writerows(data)"
   ]
  },
  {
   "cell_type": "code",
   "execution_count": null,
   "metadata": {},
   "outputs": [],
   "source": []
  }
 ],
 "metadata": {
  "kernelspec": {
   "display_name": "base",
   "language": "python",
   "name": "python3"
  },
  "language_info": {
   "codemirror_mode": {
    "name": "ipython",
    "version": 3
   },
   "file_extension": ".py",
   "mimetype": "text/x-python",
   "name": "python",
   "nbconvert_exporter": "python",
   "pygments_lexer": "ipython3",
   "version": "3.12.2"
  }
 },
 "nbformat": 4,
 "nbformat_minor": 2
}
